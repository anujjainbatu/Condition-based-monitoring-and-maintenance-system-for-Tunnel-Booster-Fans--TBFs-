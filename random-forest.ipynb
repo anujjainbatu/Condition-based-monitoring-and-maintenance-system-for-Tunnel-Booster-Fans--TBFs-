{
 "cells": [
  {
   "cell_type": "code",
   "execution_count": 3,
   "id": "c39963a7-4c47-43d6-a630-7f470fc23d49",
   "metadata": {},
   "outputs": [],
   "source": [
    "import pandas as pd\n",
    "import numpy as np\n",
    "from sklearn.ensemble import RandomForestClassifier\n",
    "from sklearn.model_selection import train_test_split\n",
    "from sklearn.preprocessing import LabelEncoder\n",
    "from sklearn.metrics import accuracy_score\n",
    "import joblib"
   ]
  },
  {
   "cell_type": "code",
   "execution_count": 4,
   "id": "416e425c-2ff4-4770-81eb-dfcb25939842",
   "metadata": {},
   "outputs": [
    {
     "name": "stdout",
     "output_type": "stream",
     "text": [
      "Validation Accuracy: 0.34\n"
     ]
    },
    {
     "data": {
      "text/plain": [
       "['label_encoder.pkl']"
      ]
     },
     "execution_count": 4,
     "metadata": {},
     "output_type": "execute_result"
    }
   ],
   "source": [
    "# Load the training data\n",
    "df_train = pd.read_csv('training_data.csv')\n",
    "\n",
    "# Encode categorical target variable 'Failure Code'\n",
    "label_encoder = LabelEncoder()\n",
    "df_train['Failure Code'] = label_encoder.fit_transform(df_train['Failure Code'])\n",
    "\n",
    "# Split features and target\n",
    "X = df_train.drop(columns=['Failure Code'])\n",
    "y = df_train['Failure Code']\n",
    "\n",
    "# Split data into training and validation sets\n",
    "X_train, X_valid, y_train, y_valid = train_test_split(X, y, test_size=0.2, random_state=0)\n",
    "\n",
    "# Train the RandomForest model\n",
    "rf_model = RandomForestClassifier(n_estimators=100, random_state=0)\n",
    "rf_model.fit(X_train, y_train)\n",
    "\n",
    "# Validate the model\n",
    "y_valid_pred = rf_model.predict(X_valid)\n",
    "print(f'Validation Accuracy: {accuracy_score(y_valid, y_valid_pred):.2f}')\n",
    "\n",
    "# Save the model\n",
    "joblib.dump(rf_model, 'tbf_random_forest_model.pkl')\n",
    "joblib.dump(label_encoder, 'label_encoder.pkl')"
   ]
  },
  {
   "cell_type": "code",
   "execution_count": 5,
   "id": "ccb54836-43d2-46bc-93f0-acb4f6d7b766",
   "metadata": {},
   "outputs": [
    {
     "name": "stdout",
     "output_type": "stream",
     "text": [
      "Predictions made and saved to 'test_data_predictions.csv'\n"
     ]
    }
   ],
   "source": [
    "# Load the test data\n",
    "df_test = pd.read_csv('test_data.csv')\n",
    "\n",
    "# Load the model and label encoder\n",
    "rf_model = joblib.load('tbf_random_forest_model.pkl')\n",
    "label_encoder = joblib.load('label_encoder.pkl')\n",
    "\n",
    "# Prepare the test features by dropping unnecessary columns\n",
    "X_test_new = df_test.drop(columns=['Timestamp'])\n",
    "\n",
    "# Make predictions on the new test data\n",
    "y_test_pred = rf_model.predict(X_test_new)\n",
    "\n",
    "# Decode the predicted labels back to their original form\n",
    "df_test['Predicted Failure Code'] = label_encoder.inverse_transform(y_test_pred)\n",
    "\n",
    "# Save the results to a new CSV file\n",
    "df_test.to_csv('test_data_predictions.csv', index=False)\n",
    "\n",
    "print(\"Predictions made and saved to 'test_data_predictions.csv'\")"
   ]
  },
  {
   "cell_type": "code",
   "execution_count": null,
   "id": "b92d1611-c798-436a-8dd7-b98b6f75738f",
   "metadata": {},
   "outputs": [],
   "source": []
  }
 ],
 "metadata": {
  "kernelspec": {
   "display_name": "Python 3 (ipykernel)",
   "language": "python",
   "name": "python3"
  },
  "language_info": {
   "codemirror_mode": {
    "name": "ipython",
    "version": 3
   },
   "file_extension": ".py",
   "mimetype": "text/x-python",
   "name": "python",
   "nbconvert_exporter": "python",
   "pygments_lexer": "ipython3",
   "version": "3.12.0"
  }
 },
 "nbformat": 4,
 "nbformat_minor": 5
}
