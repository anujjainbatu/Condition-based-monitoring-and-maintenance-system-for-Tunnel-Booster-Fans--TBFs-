{
 "cells": [
  {
   "cell_type": "code",
   "execution_count": 1,
   "id": "f404f159-5f6b-4ab8-bfd3-f2d92cc01224",
   "metadata": {},
   "outputs": [],
   "source": [
    "import pandas as pd\n",
    "import numpy as np"
   ]
  },
  {
   "cell_type": "code",
   "execution_count": 2,
   "id": "a0abcf08-ddea-4b4f-9b02-c7697eacda14",
   "metadata": {},
   "outputs": [],
   "source": [
    "import pandas as pd\n",
    "import numpy as np\n",
    "\n",
    "# Generate synthetic training data\n",
    "def generate_training_data(num_samples):\n",
    "    np.random.seed(0)\n",
    "    df_train = pd.DataFrame({\n",
    "        'Operating Temperature (°C)': np.random.uniform(20, 60, num_samples),\n",
    "        'Operating Pressure (Pa)': np.random.uniform(1000, 5000, num_samples),\n",
    "        'Vibration Level (m/s²)': np.random.uniform(0.1, 5.0, num_samples),\n",
    "        'Power Consumption (kW)': np.random.uniform(1.0, 10.0, num_samples),\n",
    "        'Speed (RPM)': np.random.uniform(1000, 5000, num_samples),\n",
    "        'Noise Level (dB)': np.random.uniform(30, 90, num_samples),\n",
    "        'Maintenance Status': np.random.randint(0, 2, num_samples),\n",
    "        'Time Since Last Maintenance (hours)': np.random.uniform(0, 1000, num_samples),\n",
    "        'Deviation from Expected Parameters': np.random.uniform(-5, 5, num_samples),\n",
    "        'Historical Failure Data': np.random.randint(0, 2, num_samples),\n",
    "        'Failure Code': np.random.choice(['motor failure', 'blade damage', 'none'], num_samples)\n",
    "    })\n",
    "    return df_train\n",
    "\n",
    "# Generate synthetic test data\n",
    "def generate_test_data(num_samples):\n",
    "    np.random.seed(1)\n",
    "    df_test = pd.DataFrame({\n",
    "        'Timestamp': np.random.uniform(1.0, 10000.0, num_samples),  # Timestamp as float\n",
    "        'Operating Temperature (°C)': np.random.uniform(20, 60, num_samples),\n",
    "        'Operating Pressure (Pa)': np.random.uniform(1000, 5000, num_samples),\n",
    "        'Vibration Level (m/s²)': np.random.uniform(0.1, 5.0, num_samples),\n",
    "        'Power Consumption (kW)': np.random.uniform(1.0, 10.0, num_samples),\n",
    "        'Speed (RPM)': np.random.uniform(1000, 5000, num_samples),\n",
    "        'Noise Level (dB)': np.random.uniform(30, 90, num_samples),\n",
    "        'Maintenance Status': np.random.randint(0, 2, num_samples),\n",
    "        'Time Since Last Maintenance (hours)': np.random.uniform(0, 1000, num_samples),\n",
    "        'Deviation from Expected Parameters': np.random.uniform(-5, 5, num_samples),\n",
    "        'Historical Failure Data': np.random.randint(0, 2, num_samples)\n",
    "    })\n",
    "    return df_test\n",
    "\n",
    "df_train = generate_training_data(1000)\n",
    "df_test = generate_test_data(100)\n",
    "\n",
    "df_train.to_csv('training_data.csv', index=False)\n",
    "df_test.to_csv('test_data.csv', index=False)"
   ]
  },
  {
   "cell_type": "code",
   "execution_count": null,
   "id": "08fbceb7-805b-41ea-8da1-d0d1daccdae3",
   "metadata": {},
   "outputs": [],
   "source": []
  }
 ],
 "metadata": {
  "kernelspec": {
   "display_name": "Python 3 (ipykernel)",
   "language": "python",
   "name": "python3"
  },
  "language_info": {
   "codemirror_mode": {
    "name": "ipython",
    "version": 3
   },
   "file_extension": ".py",
   "mimetype": "text/x-python",
   "name": "python",
   "nbconvert_exporter": "python",
   "pygments_lexer": "ipython3",
   "version": "3.12.0"
  }
 },
 "nbformat": 4,
 "nbformat_minor": 5
}
